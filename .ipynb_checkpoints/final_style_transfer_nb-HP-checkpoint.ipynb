{
 "cells": [
  {
   "cell_type": "code",
   "execution_count": 47,
   "id": "initial_id",
   "metadata": {
    "ExecuteTime": {
     "end_time": "2024-07-21T23:23:10.626014Z",
     "start_time": "2024-07-21T23:23:09.444737Z"
    }
   },
   "outputs": [],
   "source": [
    "import torch\n",
    "import torch.nn as nn\n",
    "import torch.optim as optim\n",
    "from PIL import Image\n",
    "import torchvision.transforms as transforms\n",
    "import torchvision.models as models\n",
    "from torchvision.utils import save_image\n",
    "import pandas as pd\n",
    "\n",
    "import ssl\n",
    "import certifi\n",
    "ssl._create_default_https_context = ssl._create_unverified_context"
   ]
  },
  {
   "cell_type": "code",
   "execution_count": 48,
   "id": "306617d55ec8f23c",
   "metadata": {
    "ExecuteTime": {
     "end_time": "2024-07-21T23:23:12.271410Z",
     "start_time": "2024-07-21T23:23:12.268074Z"
    },
    "collapsed": false,
    "jupyter": {
     "outputs_hidden": false
    }
   },
   "outputs": [
    {
     "name": "stdout",
     "output_type": "stream",
     "text": [
      "Using device = cuda\n"
     ]
    }
   ],
   "source": [
    "device = 'mps' if torch.backends.mps.is_available() else ('cuda' if torch.cuda.is_available() else 'cpu')\n",
    "print(\"Using device = \" + device)\n",
    "if device == 'cpu':\n",
    "    print(\"WARNING: Using CPU will cause slower train times\")"
   ]
  },
  {
   "cell_type": "markdown",
   "id": "946a977fabb03bfd",
   "metadata": {},
   "source": [
    "# Variables"
   ]
  },
  {
   "cell_type": "code",
   "execution_count": 49,
   "id": "e44458ac84594557",
   "metadata": {
    "ExecuteTime": {
     "end_time": "2024-07-23T13:17:48.984395Z",
     "start_time": "2024-07-23T13:17:48.978534Z"
    },
    "collapsed": false,
    "jupyter": {
     "outputs_hidden": false
    }
   },
   "outputs": [],
   "source": [
    "image_size = 256\n",
    "content_filename = 'miley_cyrus.jpg'\n",
    "style_filename = 'zaha-texture.png'\n",
    "\n",
    "image_save_folder = content_filename + '_' + style_filename\n",
    "\n",
    "Neural_Style_Layer_List = ['0', '5', '10', '19', '28']\n",
    "\n",
    "Normalization_Method = 'None' # 'None' or 'imagenet'\n",
    "CNN = 'Perceptual' # 'original', 'test1', 'test2', 'test3'\n",
    "loss_method = 'Base'\n",
    "\n",
    "image_save_folder = image_save_folder + '_' + CNN\n",
    "\n",
    "total_steps = 4100\n",
    "save_steps = 100\n",
    "learning_rate = 0.0001 # loss for base 0.01\n",
    "alpha = 1 \n",
    "beta = 1 # beta for base 0.01"
   ]
  },
  {
   "cell_type": "code",
   "execution_count": 50,
   "id": "788b5e3530a2f19",
   "metadata": {
    "ExecuteTime": {
     "end_time": "2024-07-23T13:17:49.746064Z",
     "start_time": "2024-07-23T13:17:49.742830Z"
    },
    "collapsed": false,
    "jupyter": {
     "outputs_hidden": false
    }
   },
   "outputs": [],
   "source": [
    "# if image_save_folder does not exist, create it\n",
    "import os\n",
    "if not os.path.exists('final_project_gen_images/' + image_save_folder):\n",
    "    os.makedirs('final_project_gen_images/' + image_save_folder)\n",
    "    "
   ]
  },
  {
   "cell_type": "markdown",
   "id": "e811622b30dbd33c",
   "metadata": {},
   "source": [
    "# Neural Style Transfer Network"
   ]
  },
  {
   "cell_type": "code",
   "execution_count": 51,
   "id": "9e84bd582d033b75",
   "metadata": {
    "ExecuteTime": {
     "end_time": "2024-07-23T13:17:50.654861Z",
     "start_time": "2024-07-23T13:17:50.650493Z"
    },
    "collapsed": false,
    "jupyter": {
     "outputs_hidden": false
    }
   },
   "outputs": [],
   "source": [
    "class VGG19(nn.Module):\n",
    "    def __init__(self, layer_list):\n",
    "        super(VGG19, self).__init__()\n",
    "        self.chosen_features = layer_list\n",
    "        self.model = models.vgg19(pretrained=True).features[:29]\n",
    "\n",
    "    def forward(self, x):\n",
    "        features = []\n",
    "        for layer_num, layer in enumerate(self.model):\n",
    "            x = layer(x)\n",
    "            if str(layer_num) in self.chosen_features:\n",
    "                features.append(x)\n",
    "        return features"
   ]
  },
  {
   "cell_type": "code",
   "execution_count": 52,
   "id": "dd6f6578361c296f",
   "metadata": {
    "ExecuteTime": {
     "end_time": "2024-07-23T13:17:51.701429Z",
     "start_time": "2024-07-23T13:17:51.172081Z"
    },
    "collapsed": false,
    "jupyter": {
     "outputs_hidden": false
    }
   },
   "outputs": [],
   "source": [
    "ns_model = VGG19(Neural_Style_Layer_List).to(device).eval()"
   ]
  },
  {
   "cell_type": "markdown",
   "id": "bd10f61d4193c764",
   "metadata": {},
   "source": [
    "# perceptual Neural Network"
   ]
  },
  {
   "cell_type": "code",
   "execution_count": 53,
   "id": "b4558dfb246fd29",
   "metadata": {
    "ExecuteTime": {
     "end_time": "2024-07-23T13:17:52.281552Z",
     "start_time": "2024-07-23T13:17:51.703972Z"
    },
    "collapsed": false,
    "jupyter": {
     "outputs_hidden": false
    }
   },
   "outputs": [],
   "source": [
    "per_model = models.vgg16(pretrained=True).features.to(device).eval()\n",
    "# per_model = nn.Sequential(*list(per_model.children())[:-1])  # Remove the classification layers\n",
    "# per_model.eval()  # Set to evaluation mode"
   ]
  },
  {
   "cell_type": "markdown",
   "id": "ee42394425e41832",
   "metadata": {},
   "source": [
    "# Load Image Function"
   ]
  },
  {
   "cell_type": "code",
   "execution_count": 54,
   "id": "8073ad1fbad94ee",
   "metadata": {
    "ExecuteTime": {
     "end_time": "2024-07-23T13:17:52.289221Z",
     "start_time": "2024-07-23T13:17:52.284128Z"
    },
    "collapsed": false,
    "jupyter": {
     "outputs_hidden": false
    }
   },
   "outputs": [],
   "source": [
    "def load_image(image_name, image_size=256):\n",
    "    if Normalization_Method == 'None':\n",
    "        loader = transforms.Compose([\n",
    "        transforms.Resize((image_size, image_size)),\n",
    "        transforms.ToTensor(),\n",
    "        transforms.Normalize(mean=[0, 0, 0], std=[1, 1, 1])\n",
    "    ])\n",
    "        \n",
    "    elif Normalization_Method == 'imagenet':\n",
    "        loader = transforms.Compose([\n",
    "        transforms.Resize((image_size, image_size)),\n",
    "        transforms.ToTensor(),\n",
    "        transforms.Normalize(mean=[0.485, 0.456, 0.406], std=[0.229, 0.224, 0.225])\n",
    "    ])\n",
    "\n",
    "    image = Image.open(image_name)\n",
    "    image = image.convert('RGB')\n",
    "    image = loader(image).unsqueeze(0)\n",
    "    return image.to(device)"
   ]
  },
  {
   "cell_type": "code",
   "execution_count": null,
   "id": "58656eab595e85ff",
   "metadata": {
    "ExecuteTime": {
     "end_time": "2024-07-23T13:17:52.832268Z",
     "start_time": "2024-07-23T13:17:52.830941Z"
    },
    "collapsed": false,
    "jupyter": {
     "outputs_hidden": false
    }
   },
   "outputs": [],
   "source": []
  },
  {
   "cell_type": "code",
   "execution_count": 55,
   "id": "2b3bfb24d8094999",
   "metadata": {
    "ExecuteTime": {
     "end_time": "2024-07-23T13:17:53.342033Z",
     "start_time": "2024-07-23T13:17:53.340155Z"
    },
    "collapsed": false,
    "jupyter": {
     "outputs_hidden": false
    }
   },
   "outputs": [],
   "source": [
    "# Load pre-trained VGG16 model for perceptual loss\n",
    "class VGG16Features(nn.Module):\n",
    "    def __init__(self):\n",
    "        super(VGG16Features, self).__init__()\n",
    "        vgg16_model = models.vgg16(pretrained=True).features\n",
    "        self.layers = nn.Sequential(\n",
    "            vgg16_model[0], vgg16_model[1], vgg16_model[2], vgg16_model[3],\n",
    "            vgg16_model[4], vgg16_model[5], vgg16_model[6], vgg16_model[7]\n",
    "        )\n",
    "        \n",
    "    def forward(self, x):\n",
    "        return self.layers(x)\n",
    "\n",
    "# Function to extract features using VGG16\n",
    "def extract_features(img, model, device):\n",
    "    model = model.to(device)\n",
    "    img = img.to(device)\n",
    "    with torch.no_grad():\n",
    "        features = model(img)\n",
    "    return features"
   ]
  },
  {
   "cell_type": "markdown",
   "id": "a73948fff0c65df2",
   "metadata": {},
   "source": [
    "# Neural Style Transfer Code"
   ]
  },
  {
   "cell_type": "code",
   "execution_count": null,
   "id": "48be3497bacec44",
   "metadata": {
    "ExecuteTime": {
     "end_time": "2024-07-23T13:17:54.136999Z",
     "start_time": "2024-07-23T13:17:54.132553Z"
    },
    "collapsed": false,
    "jupyter": {
     "outputs_hidden": false
    }
   },
   "outputs": [],
   "source": []
  },
  {
   "cell_type": "code",
   "execution_count": 56,
   "id": "93a75cccb160d4d8",
   "metadata": {
    "ExecuteTime": {
     "end_time": "2024-07-23T13:17:54.662276Z",
     "start_time": "2024-07-23T13:17:54.637612Z"
    },
    "collapsed": false,
    "jupyter": {
     "outputs_hidden": false
    }
   },
   "outputs": [],
   "source": [
    "content = load_image(\"final_project_images/content_images/\" + content_filename, image_size)\n",
    "style = load_image(\"final_project_images/style_images/\" + style_filename, image_size)"
   ]
  },
  {
   "cell_type": "code",
   "execution_count": 57,
   "id": "b3aaf332a93b078f",
   "metadata": {
    "ExecuteTime": {
     "end_time": "2024-07-23T13:17:55.723024Z",
     "start_time": "2024-07-23T13:17:55.211898Z"
    },
    "collapsed": false,
    "jupyter": {
     "outputs_hidden": false
    }
   },
   "outputs": [],
   "source": [
    "# Extract features for perceptual loss\n",
    "per_model = VGG16Features().to(device).eval()\n",
    "content_features_per = extract_features(content, per_model, device)\n",
    "style_features_per = extract_features(style, per_model, device)"
   ]
  },
  {
   "cell_type": "code",
   "execution_count": 58,
   "id": "99ce056c6bbc3730",
   "metadata": {
    "ExecuteTime": {
     "end_time": "2024-07-23T13:17:55.727408Z",
     "start_time": "2024-07-23T13:17:55.724040Z"
    },
    "collapsed": false,
    "jupyter": {
     "outputs_hidden": false
    }
   },
   "outputs": [],
   "source": [
    "generated_image = content.clone().requires_grad_(True).to(device)\n",
    "optimizer = optim.Adam([generated_image], lr=learning_rate, betas=[0.5, 0.999])"
   ]
  },
  {
   "cell_type": "code",
   "execution_count": 59,
   "id": "a637cdff191bd8f7",
   "metadata": {
    "ExecuteTime": {
     "end_time": "2024-07-23T13:25:48.525247Z",
     "start_time": "2024-07-23T13:17:55.732785Z"
    },
    "collapsed": false,
    "jupyter": {
     "outputs_hidden": false
    }
   },
   "outputs": [
    {
     "name": "stdout",
     "output_type": "stream",
     "text": [
      "step 0: 82752656.0\n",
      "step 100: 65806216.0\n",
      "step 200: 45874260.0\n",
      "step 300: 32879274.0\n",
      "step 400: 25163842.0\n",
      "step 500: 20117544.0\n",
      "step 600: 16686896.0\n",
      "step 700: 14200733.0\n",
      "step 800: 12314144.0\n",
      "step 900: 10831130.0\n",
      "step 1000: 9635702.0\n",
      "step 1100: 8656745.0\n",
      "step 1200: 7844811.5\n",
      "step 1300: 7165353.0\n",
      "step 1400: 6590625.0\n",
      "step 1500: 6096619.0\n",
      "step 1600: 5668524.5\n",
      "step 1700: 5293230.0\n",
      "step 1800: 4962077.0\n",
      "step 1900: 4667226.0\n",
      "step 2000: 4403472.5\n",
      "step 2100: 4166588.75\n",
      "step 2200: 3952052.75\n",
      "step 2300: 3756486.25\n",
      "step 2400: 3579171.75\n",
      "step 2500: 3417478.25\n",
      "step 2600: 3268728.0\n",
      "step 2700: 3132263.5\n",
      "step 2800: 3006964.25\n",
      "step 2900: 2891473.75\n",
      "step 3000: 2784556.5\n",
      "saving loss values\n"
     ]
    }
   ],
   "source": [
    "loss_values = []\n",
    "step_list = []\n",
    "for step in range(total_steps):\n",
    "    generated_features = ns_model(generated_image)\n",
    "    content_features = ns_model(content)\n",
    "    style_features = ns_model(style)\n",
    "    \n",
    "    style_loss = 0\n",
    "    content_loss = 0\n",
    "    \n",
    "    for gen_feature, content_feature, style_feature in zip(generated_features,content_features, style_features):\n",
    "        batch_size, channel, height, width = gen_feature.shape\n",
    "        \n",
    "    \n",
    "        # Compute Gram Matrix\n",
    "        G_gen = gen_feature.view(channel, height*width).mm(gen_feature.view(channel, height*width).t())\n",
    "        G_style = style_feature.view(channel, height*width).mm(style_feature.view(channel, height*width).t())\n",
    "        \n",
    "        # Compute Loss\n",
    "        if loss_method == 'Base':\n",
    "            content_loss += torch.mean((gen_feature - content_feature)**2)\n",
    "            style_loss += torch.mean((G_gen - G_style)**2)\n",
    "        elif loss_method == 'Perceptual':\n",
    "            gen_features_per = per_model(generated_image)\n",
    "            content_loss += 100 * torch.mean((gen_features_per - content_features_per) ** 2)\n",
    "            style_loss += 100 * torch.mean((gen_features_per - style_features_per) ** 2)\n",
    "        elif loss_method == 'Wasserstein':\n",
    "            content_loss += torch.mean(generated_image) - torch.mean(content)\n",
    "            style_loss += torch.mean(generated_image) - torch.mean(style)\n",
    "        elif loss_method == 'total_variation':\n",
    "            content_loss += torch.mean(torch.abs(generated_image[:, :, :, 1:] - generated_image[:, :, :, :-1])) + torch.mean(torch.abs(generated_image[:, :, 1:, :] - generated_image[:, :, :-1, :]))\n",
    "            style_loss += torch.mean(torch.abs(generated_image[:, :, :, 1:] - generated_image[:, :, :, :-1])) + torch.mean(torch.abs(generated_image[:, :, 1:, :] - generated_image[:, :, :-1, :]))\n",
    "            \n",
    "       \n",
    "        \n",
    "    total_loss = alpha*content_loss + beta*style_loss\n",
    "    optimizer.zero_grad()\n",
    "    total_loss.backward()\n",
    "    optimizer.step()\n",
    "    \n",
    "    if step %  save_steps == 0:\n",
    "        loss_value = total_loss.item()\n",
    "        loss_values.append(loss_value)\n",
    "        step_list.append(step)\n",
    "        print(f'step {step}: {loss_value}')\n",
    "        image_name = \"final_project_gen_images/\" + image_save_folder + \"/\" + str(step) + \".png\"\n",
    "        save_image(generated_image, image_name)\n",
    "        \n",
    "# Save loss values\n",
    "print('saving loss values')\n",
    "df = pd.DataFrame(list(zip(step_list, loss_values)), columns =['Step', 'Loss'])\n",
    "df.to_csv(\"final_project_gen_images/\" + image_save_folder + \"/loss_values.csv\", index=False)"
   ]
  },
  {
   "cell_type": "code",
   "execution_count": null,
   "id": "1c11a0691c47c0aa",
   "metadata": {
    "collapsed": false,
    "jupyter": {
     "outputs_hidden": false
    }
   },
   "outputs": [],
   "source": []
  }
 ],
 "metadata": {
  "kernelspec": {
   "display_name": "Python 3 (ipykernel)",
   "language": "python",
   "name": "python3"
  },
  "language_info": {
   "codemirror_mode": {
    "name": "ipython",
    "version": 3
   },
   "file_extension": ".py",
   "mimetype": "text/x-python",
   "name": "python",
   "nbconvert_exporter": "python",
   "pygments_lexer": "ipython3",
   "version": "3.10.6"
  }
 },
 "nbformat": 4,
 "nbformat_minor": 5
}
